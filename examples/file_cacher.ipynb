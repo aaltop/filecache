{
 "cells": [
  {
   "cell_type": "code",
   "execution_count": null,
   "id": "4f21fa54",
   "metadata": {},
   "outputs": [],
   "source": [
    "from pathlib import Path\n",
    "import sys\n",
    "import os\n",
    "\n",
    "root_path = os.path.abspath(os.path.join(os.getcwd(), '..'))\n",
    "if root_path not in sys.path:\n",
    "    sys.path.insert(0, root_path)\n",
    "\n",
    "from src.utils.path import write_dict_files\n",
    "from src.file_cacher import FileCacher"
   ]
  },
  {
   "cell_type": "code",
   "execution_count": null,
   "id": "88e49b40",
   "metadata": {},
   "outputs": [],
   "source": [
    "\n",
    "\n",
    "folder_contents = {\n",
    "    \"folder1\": {\n",
    "        \"file1.txt\": \"stuff here\",\n",
    "        \"file2.txt\": \"this is file 2\\nwith two lines\"\n",
    "    },\n",
    "    \"file1.txt\": \"Top-level file content\"\n",
    "}\n",
    "\n",
    "content_folder = Path() / \"content\"\n",
    "write_dict_files(content_folder, folder_contents)\n",
    "file_cacher = FileCacher(auto_save = True)\n",
    "file_cacher.hash_files([content_folder], depth = 1)\n",
    "# auto-saved file cache contents should the same as in-memory\n",
    "print(*file_cacher.compare_caches(file_cacher.load_cache(relative = True)).items(), sep =\"\\n\")\n",
    "\n",
    "file_cacher2 = FileCacher(auto_load = False)\n",
    "file_cacher2.hash_files([content_folder])\n",
    "# differ on the contents of \"folder1\"\n",
    "file_cacher.compare_caches(file_cacher2.cache)"
   ]
  },
  {
   "cell_type": "code",
   "execution_count": null,
   "id": "718f215a",
   "metadata": {},
   "outputs": [],
   "source": []
  }
 ],
 "metadata": {
  "kernelspec": {
   "display_name": ".venv",
   "language": "python",
   "name": "python3"
  },
  "language_info": {
   "codemirror_mode": {
    "name": "ipython",
    "version": 3
   },
   "file_extension": ".py",
   "mimetype": "text/x-python",
   "name": "python",
   "nbconvert_exporter": "python",
   "pygments_lexer": "ipython3",
   "version": "3.13.3"
  }
 },
 "nbformat": 4,
 "nbformat_minor": 5
}
